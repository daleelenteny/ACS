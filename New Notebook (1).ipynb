{
 "cells": [
  {
   "cell_type": "code",
   "execution_count": null,
   "metadata": {},
   "outputs": [],
   "source": [
    "'''\n",
    "Parameters \n",
    "'''\n",
    "# Find Focus Point \n",
    "focus_features  = r'C:\\DALE\\Personal\\Minnesota\\MyProject\\ACS.gdb\\Focus_Points'\n",
    "focus_field     = 'NAME'\n",
    "focus_value     = 'SMU Minneapolis'\n",
    "\n",
    "focus_point = select_feature_by_attribute(focus_features, focus_field, focus_value)\n",
    "\n",
    "# Export Block Groups \n",
    "polygon_input         = r'C:\\DALE\\Personal\\Minnesota\\GIS Projects\\ACS\\Block_Groups.gdb\\MN'\n",
    "polygon_output_folder = r'C:\\DALE\\Personal\\Minnesota\\GIS Projects\\ACS\\Output Data\\Block Group Shapefiles'\n",
    "polygon_output_name   = focus_value + \" \" + selection_distance + '.shp'\n",
    "\n",
    "selection_distance    = '10 Miles'\n",
    "\n",
    "erase_features        = r'C:\\DALE\\Personal\\Minnesota\\GIS Projects\\ACS\\ACS.gdb\\Wilder_3Miles'\n",
    "erase_output_name      = focus_value + \" \" + selection_distance + \"_erase\" + '.shp'\n",
    "erase_output_path      = os.path.join(polygon_output_folder, erase_output_name)"
   ]
  },
  {
   "cell_type": "code",
   "execution_count": 266,
   "metadata": {},
   "outputs": [],
   "source": [
    "def create_selection_distance_dictionary(starting_hi, ending_hi, interval): \n",
    "    \n",
    "    selection_distance_dictionary = {} \n",
    "\n",
    "    for i in range(starting_hi, ending_hi, interval): \n",
    "        selection_distance_windows[i] = i + interval\n",
    "        \n",
    "    return selection_distance_dictionary"
   ]
  },
  {
   "cell_type": "code",
   "execution_count": null,
   "metadata": {},
   "outputs": [],
   "source": [
    "'''\n",
    "Master Process \n",
    "'''\n",
    "    \n",
    "focus_selection = select_feature_by_attribute(focus_features, focus_field, focus_value)\n",
    "geo_output      = export_block_groups_by_distance(polygon_input, selection_distance, polygon_output_folder, polygon_output_name)\n",
    "\n",
    "else: \n",
    "    geo_output                        = os.path.join(output_folder, output_name)\n",
    "    print('1: Block groups shapefile already exists:')\n",
    "    print(output_folder, output_name)\n",
    "\n",
    "\n",
    "# Selection distance dictionary \n",
    "selection_distance_dictionary = create_selection_distance_dictionary(5, 50, 5)\n",
    "\n",
    "# Erase polygons as needed \n",
    "polygon_output_path   = export_polygons_by_distance(polygon_input, selection_distance, polygon_output_folder, polygon_output_name)\n",
    "\n",
    "clip_selection, second_selection, count = arcpy.management.SelectLayerByLocation(in_layer        = polygon_output_path,  \n",
    "                                                                                 overlap_type    = 'INTERSECT', \n",
    "                                                                                 select_features = erase_features,\n",
    "                                                                                 selection_type  = 'NEW_SELECTION', \n",
    "                                                                                 invert_spatial_relationship = 'INVERT')\n",
    "\n",
    "arcpy.conversion.ExportFeatures(clip_selection, erase_output_path)"
   ]
  }
 ],
 "metadata": {
  "kernelspec": {
   "display_name": "ArcGISPro",
   "language": "Python",
   "name": "python3"
  },
  "language_info": {
   "file_extension": ".py",
   "name": "python",
   "version": "3"
  }
 },
 "nbformat": 4,
 "nbformat_minor": 2
}
