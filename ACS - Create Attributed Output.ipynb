{
 "cells": [
  {
   "cell_type": "code",
   "execution_count": 262,
   "metadata": {},
   "outputs": [],
   "source": [
    "'''\n",
    "Parameters\n",
    "'''\n",
    "\n",
    "import os \n",
    "import geopandas as gpd\n",
    "\n",
    "# Focus inputs \n",
    "focus_features     = r'C:\\DALE\\Personal\\Minnesota\\MyProject\\ACS.gdb\\Focus_Points'\n",
    "focus_field        = 'NAME'\n",
    "focus_value        = 'Wilder'\n",
    "\n",
    "# Target inputs \n",
    "geo_features       = r'C:\\DALE\\Personal\\Minnesota\\GIS Projects\\ACS\\Block_Groups.gdb\\MN'\n",
    "selection_distance = '5 Miles'\n",
    "\n",
    "# Output \n",
    "output_folder      = r'C:\\DALE\\Personal\\Minnesota\\GIS Projects\\ACS\\Output Data\\Block Group Shapefiles'\n",
    "output_name        = focus_value + \"_\" + selection_distance.replace(\" \", \"\")\n",
    "geo_output         = os.path.join(output_folder, output_name + '.shp')\n",
    "overwrite          = True \n",
    "\n",
    "# API\n",
    "input_group_code = 'B02001'\n",
    "api_key          = r\"1749dc1d87964116107a80cd7d76fca300dda59f\"\n",
    "\n",
    "# Output Geodataframe \n",
    "keep_columns = ['FIPS', 'geometry', '% White alone']\n",
    "output_label = 'Percent_White'\n",
    "\n",
    "'''\n",
    "Run \n",
    "'''\n",
    "\n",
    "def create_acs_shapefile(): \n",
    "    \n",
    "    # Census 1 - Create shapefile of focused block groups \n",
    "    geo_output                            = select_feature_by_attribute(focus_features, focus_field, focus_value, geo_features, selection_distance, geo_output, overwrite)\n",
    "    # Census 3 - Based on an input code, return a list of variable codes \n",
    "    variable_codes, code_label_dictionary = return_acs_dictionary(input_group_code, json_dictionary, group_dictionary)\n",
    "    # Census 4 - Construct API urls and retrieve json lists from the API \n",
    "    json_list                             = retrieve_acs_json(variable_codes, geo_output, api_key)\n",
    "    # \n",
    "    api_dataframe                         = create_api_dataframe(json_list)\n",
    "    output_shp                            = merge_and_export_geodataframe(geo_output, api_dataframe, output_label)\n",
    "    \n",
    "    return output_shp \n",
    "\n",
    "output_shp = create_acs_shapefile"
   ]
  }
 ],
 "metadata": {
  "kernelspec": {
   "display_name": "ArcGISPro",
   "language": "Python",
   "name": "python3"
  },
  "language_info": {
   "file_extension": ".py",
   "name": "python",
   "version": "3"
  }
 },
 "nbformat": 4,
 "nbformat_minor": 2
}
