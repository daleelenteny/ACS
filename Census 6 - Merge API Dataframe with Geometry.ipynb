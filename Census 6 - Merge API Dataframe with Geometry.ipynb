{
 "cells": [
  {
   "cell_type": "code",
   "execution_count": 256,
   "metadata": {},
   "outputs": [],
   "source": [
    "'''\n",
    "Merge API data with geometry, drop unnecessary columns, and export to a shapefile. \n",
    "'''\n",
    "def merge_and_export_geodataframe(geo_output, api_dataframe, keep_columns, output_label): \n",
    "    \n",
    "    # Initialize spatial dataframe from feature class \n",
    "    geodataframe = gpd.read_file(geo_output)\n",
    "\n",
    "    # Merge \n",
    "    merge_geodataframe = geodataframe.merge(api_dataframe, on = 'FIPS', how = 'left')\n",
    "\n",
    "    # Drop \n",
    "    for column in merge_geodataframe.columns: \n",
    "        if column not in keep_columns: \n",
    "            merge_geodataframe.drop(columns = column, inplace = True)\n",
    "\n",
    "    # Export to shapefile \n",
    "    output_shp = geo_output.replace(\".shp\", \"_\") + output_label + \".shp\"\n",
    "    merge_geodataframe.to_file(geo_output.replace(\".shp\", \"_\") + output_label + \".shp\")\n",
    "    \n",
    "    return output_shp"
   ]
  },
  {
   "cell_type": "code",
   "execution_count": null,
   "metadata": {},
   "outputs": [],
   "source": [
    "'''\n",
    "Parameters \n",
    "'''\n",
    "import geopandas as gpd \n",
    "\n",
    "keep_columns = ['FIPS', 'geometry', '% White alone']\n",
    "output_label = 'Percent_White'\n",
    "\n",
    "'''\n",
    "Run \n",
    "'''\n",
    "# Merge and export to shapefile \n",
    "output_shp = merge_and_export_geodataframe(geo_output, api_dataframe, output_label)"
   ]
  }
 ],
 "metadata": {
  "kernelspec": {
   "display_name": "ArcGISPro",
   "language": "Python",
   "name": "python3"
  },
  "language_info": {
   "file_extension": ".py",
   "name": "python",
   "version": "3"
  }
 },
 "nbformat": 4,
 "nbformat_minor": 2
}
