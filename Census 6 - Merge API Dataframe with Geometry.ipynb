{
 "cells": [
  {
   "cell_type": "code",
   "execution_count": 137,
   "metadata": {},
   "outputs": [],
   "source": [
    "'''\n",
    "Create folder \n",
    "'''\n",
    "\n",
    "def create_export_folder(root_dir, focus_value, filter_word): \n",
    "\n",
    "    export_folder = os.path.join(root_dir, focus_value, filter_word)\n",
    "\n",
    "    if arcpy.Exists(export_folder) == False: \n",
    "        try: \n",
    "            os.mkdir(export_folder)\n",
    "        except: \n",
    "            city_dir = os.path.join(root_dir, focus_value)\n",
    "            os.mkdir(city_dir)\n",
    "            os.mkdir(export_folder)\n",
    "            \n",
    "    return export_folder"
   ]
  },
  {
   "cell_type": "code",
   "execution_count": 138,
   "metadata": {},
   "outputs": [],
   "source": [
    "'''\n",
    "Merge API data with geometry, drop unnecessary columns, and export to a shapefile. \n",
    "'''\n",
    "def merge_and_export_geodataframe(geo_features, api_dataframe, export_folder, output_label): \n",
    "    \n",
    "    # Initialize spatial dataframe from feature class \n",
    "    geodataframe = gpd.read_file(geo_features)\n",
    "\n",
    "    # Merge \n",
    "    merge_geodataframe = geodataframe.merge(api_dataframe, on = 'FIPS', how = 'left')\n",
    "\n",
    "    # Export to shapefile \n",
    "    output_shp = os.path.join(export_folder, output_label + '.shp')\n",
    "    merge_geodataframe.to_file(output_shp)\n",
    "    \n",
    "    return output_shp"
   ]
  }
 ],
 "metadata": {
  "kernelspec": {
   "display_name": "ArcGISPro",
   "language": "Python",
   "name": "python3"
  },
  "language_info": {
   "file_extension": ".py",
   "name": "python",
   "version": "3"
  }
 },
 "nbformat": 4,
 "nbformat_minor": 2
}
