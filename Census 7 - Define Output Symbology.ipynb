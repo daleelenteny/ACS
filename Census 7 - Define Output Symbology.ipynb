{
 "cells": [
  {
   "cell_type": "code",
   "execution_count": null,
   "metadata": {},
   "outputs": [],
   "source": [
    "for cr in aprx.listColorRamps(): \n",
    "    print(cr.name)"
   ]
  },
  {
   "cell_type": "code",
   "execution_count": 355,
   "metadata": {},
   "outputs": [],
   "source": [
    "'''\n",
    "Reference\n",
    "'''\n",
    "# ESRI color ramps can be browsed here: https://developers.arcgis.com/javascript/latest/visualization/symbols-color-ramps/esri-color-ramps/\n",
    "\n",
    "'''\n",
    "Define Functions \n",
    "'''\n",
    "def add_to_map(mp_name, output_shp): \n",
    "    \n",
    "    aprx = arcpy.mp.ArcGISProject('CURRENT')\n",
    "    mp   = aprx.listMaps(mp_name)[0]\n",
    "    lyr = mp.addDataFromPath(output_shp)\n",
    "    \n",
    "    return lyr \n",
    "    \n",
    "def identify_layer(mp_name, lyr_name): \n",
    "\n",
    "    # Identify layer \n",
    "    aprx = arcpy.mp.ArcGISProject('CURRENT')\n",
    "    mp   = aprx.listMaps(mp_name)[0]\n",
    "    lyr  = mp.listLayers(lyr_name)[0]\n",
    "\n",
    "    return lyr \n",
    "\n",
    "def apply_unclassed_symbology(layer, color_ramp_name, lower_label, upper_label): \n",
    "\n",
    "    # Identify map \n",
    "    aprx = arcpy.mp.ArcGISProject(\"CURRENT\")\n",
    "\n",
    "    # Initialize weighted_symbology \n",
    "    symbology = layer.symbology \n",
    "\n",
    "    # Define weighted Colors Renderer\n",
    "    if symbology.renderer.type != \"UnclassedColorsRenderer\": \n",
    "        symbology.updateRenderer(\"UnclassedColorsRenderer\")\n",
    "    else: \n",
    "        pass\n",
    "\n",
    "    symbology.renderer.colorRamp           = aprx.listColorRamps(color_ramp_name)[0]\n",
    "    symbology.renderer.lowerLabel          = lower_label\n",
    "    symbology.renderer.upperLabel          = upper_label\n",
    "\n",
    "    # Apply symbology \n",
    "    layer.symbology = symbology\n",
    "    \n",
    "    return symbology "
   ]
  },
  {
   "cell_type": "code",
   "execution_count": 358,
   "metadata": {},
   "outputs": [],
   "source": [
    "lyr       = add_to_map('Census', output_shp)"
   ]
  },
  {
   "cell_type": "code",
   "execution_count": null,
   "metadata": {},
   "outputs": [],
   "source": [
    "symbology = apply_unclassed_symbology(layer, color_ramp_name, lower_label, upper_label)"
   ]
  }
 ],
 "metadata": {
  "kernelspec": {
   "display_name": "ArcGISPro",
   "language": "Python",
   "name": "python3"
  },
  "language_info": {
   "file_extension": ".py",
   "name": "python",
   "version": "3"
  }
 },
 "nbformat": 4,
 "nbformat_minor": 2
}
