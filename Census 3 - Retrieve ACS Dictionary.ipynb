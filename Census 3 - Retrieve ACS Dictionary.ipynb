{
 "cells": [
  {
   "cell_type": "code",
   "execution_count": 235,
   "metadata": {},
   "outputs": [],
   "source": [
    "'''\n",
    "Return a list of variable codes based on a designated group code. \n",
    "'''\n",
    "def find_variable_codes(input_group_code, group_dictionary): \n",
    "    \n",
    "    # For group code, concept/codes dictionary\n",
    "    for group_code, concept_codes_dict in group_dictionary.items(): \n",
    "        if group_code == input_group_code: \n",
    "            variable_codes = concept_codes_dict['codes']\n",
    "            \n",
    "    return variable_codes \n",
    "\n",
    "'''\n",
    "This creates a dictionary of codes and their values. \n",
    "'''\n",
    "def create_code_label_dictionary(variable_codes, json_dictionary): \n",
    "    \n",
    "    code_label_dictionary = {} \n",
    "    code_label_dictionary['B01001_001E'] = 'Total Population'\n",
    "\n",
    "    for code in variable_codes: \n",
    "        label = json_dictionary[code]['label'].split('!!')[-1]\n",
    "        code_label_dictionary[code] = label \n",
    "\n",
    "    return code_label_dictionary"
   ]
  },
  {
   "cell_type": "code",
   "execution_count": 237,
   "metadata": {},
   "outputs": [
    {
     "name": "stdout",
     "output_type": "stream",
     "text": [
      "B01001_001E : Total Population\n",
      "B02001_009E : Two races including Some Other Race\n",
      "B02001_007E : Some Other Race alone\n",
      "B02001_008E : Two or More Races:\n",
      "B02001_010E : Two races excluding Some Other Race, and three or more races\n",
      "B02001_002E : White alone\n",
      "B02001_001E : Total:\n",
      "B02001_006E : Native Hawaiian and Other Pacific Islander alone\n",
      "B02001_005E : Asian alone\n",
      "B02001_004E : American Indian and Alaska Native alone\n",
      "B02001_003E : Black or African American alone\n"
     ]
    }
   ],
   "source": [
    "'''\n",
    "Master Fucntion \n",
    "'''\n",
    "def return_acs_dictionary(input_group_code, json_dictionary, group_dictionary):\n",
    "    \n",
    "    # Find relevant codes \n",
    "    variable_codes        = find_variable_codes(input_group_code, group_dictionary)\n",
    "    code_label_dictionary = create_code_label_dictionary(variable_codes, json_dictionary)\n",
    "    \n",
    "    return variable_codes, code_label_dictionary\n",
    "\n",
    "'''\n",
    "Parameters\n",
    "'''\n",
    "\n",
    "input_group_code = 'B02001'\n",
    "\n",
    "'''\n",
    "Run \n",
    "'''\n",
    "\n",
    "variable_codes, code_label_dictionary = return_acs_dictionary(input_group_code, json_dictionary, group_dictionary)\n",
    "\n",
    "# Print dictionary outputs \n",
    "for c, l in code_label_dictionary.items(): \n",
    "    print(c, \":\", l)"
   ]
  }
 ],
 "metadata": {
  "kernelspec": {
   "display_name": "ArcGISPro",
   "language": "Python",
   "name": "python3"
  },
  "language_info": {
   "file_extension": ".py",
   "name": "python",
   "version": "3"
  }
 },
 "nbformat": 4,
 "nbformat_minor": 2
}
