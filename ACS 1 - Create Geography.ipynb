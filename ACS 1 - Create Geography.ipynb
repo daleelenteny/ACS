{
 "cells": [
  {
   "cell_type": "code",
   "execution_count": 90,
   "metadata": {},
   "outputs": [],
   "source": [
    "'''\n",
    "Select an individual feature by attribute value from one feature class, then select features from another feature class by distance from the original feature. \n",
    "Originally used for selecting census block groups within a specified distance of a point feature. \n",
    "'''\n",
    "def select_feature_by_attribute(focus_features, focus_field, focus_value): \n",
    "    \n",
    "    # Construct SQL \n",
    "    sql = f\"{focus_field} = '{focus_value}'\"\n",
    "\n",
    "    # Apply attribute selection \n",
    "    focus_point, count          = arcpy.management.SelectLayerByAttribute(focus_features, 'NEW_SELECTION', sql)\n",
    "    if count == '0': \n",
    "        print('No focus features selected')\n",
    "    elif count != 1: \n",
    "        print(f'Feature selected: {focus_value}')\n",
    "        pass\n",
    "    else: \n",
    "        print(f'Multiple features selected: {count}')\n",
    "        \n",
    "    return focus_point"
   ]
  },
  {
   "cell_type": "code",
   "execution_count": 91,
   "metadata": {},
   "outputs": [],
   "source": [
    "'''\n",
    "Create a dictionary of distance windows to export by \n",
    "'''\n",
    "def create_selection_distance_dictionary(starting_hi, ending_hi, interval): \n",
    "    \n",
    "    selection_distance_dictionary = {} \n",
    "\n",
    "    for i in range(starting_hi, ending_hi, interval): \n",
    "        selection_distance_dictionary[i] = i + interval\n",
    "        \n",
    "    return selection_distance_dictionary"
   ]
  },
  {
   "cell_type": "code",
   "execution_count": 92,
   "metadata": {},
   "outputs": [],
   "source": [
    "'''\n",
    "Export geographic features using the selection distance dictionary \n",
    "'''\n",
    "def export_from_selection_distance_dictionary(selection_distance_dictionary, polygon_features, focus_point, focus_value, polygon_output_folder): \n",
    "    \n",
    "    # Initialize export paths \n",
    "    print(f'Output: {focus_value}')\n",
    "    \n",
    "    # Iterate through dictionary \n",
    "    for low_distance, high_distance in selection_distance_dictionary.items(): \n",
    "\n",
    "        # High selection distance \n",
    "        selection_distance = f\"{high_distance} Miles\"\n",
    "        print(\"---------\")\n",
    "        print(selection_distance)\n",
    "        print(\"---------\")\n",
    "\n",
    "        # Make initial selection \n",
    "        high_selection, merge, high_count = arcpy.management.SelectLayerByLocation(polygon_features, 'WITHIN_A_DISTANCE', focus_point, selection_distance)\n",
    "\n",
    "        if low_distance != 0: \n",
    "            # Low selection distance \n",
    "            selection_distance = f\"{low_distance} Miles\"\n",
    "\n",
    "            # Remove selection \n",
    "            low_selection, merge, low_count  = arcpy.management.SelectLayerByLocation(high_selection, 'WITHIN_A_DISTANCE', focus_point, selection_distance, selection_type = 'REMOVE_FROM_SELECTION')\n",
    "            \n",
    "            # Define export path - create folder if needed \n",
    "            export_folder = os.path.join(polygon_output_folder, focus_value)\n",
    "            export_path   = os.path.join(export_folder, f'{focus_value}_{high_distance}.shp')\n",
    "\n",
    "            if arcpy.Exists(export_folder) == False: \n",
    "                os.mkdir(export_folder)\n",
    "                \n",
    "            # Export features \n",
    "            arcpy.conversion.ExportFeatures(low_selection, export_path)\n",
    "\n",
    "        else: \n",
    "            # Define export path - create folder if needed \n",
    "            export_folder = os.path.join(polygon_output_folder, focus_value)\n",
    "            export_path   = os.path.join(export_folder, f'{focus_value}_{high_distance}.shp')\n",
    "\n",
    "            if arcpy.Exists(export_folder) == False: \n",
    "                os.mkdir(export_folder)\n",
    "                \n",
    "            # Export features \n",
    "            arcpy.conversion.ExportFeatures(high_selection, export_path)\n",
    "                \n",
    "        print(export_path)\n",
    "        \n",
    "    return export_path"
   ]
  },
  {
   "cell_type": "code",
   "execution_count": 93,
   "metadata": {},
   "outputs": [],
   "source": [
    "#######################################################################################################################################\n",
    "#######################################################################################################################################\n",
    "#######################################################################################################################################"
   ]
  },
  {
   "cell_type": "code",
   "execution_count": 94,
   "metadata": {},
   "outputs": [],
   "source": [
    "'''\n",
    "ACS 1 - MASTER\n",
    "'''\n",
    "def create_geography(focus_features, focus_field, focus_value, starting_hi, ending_hi, interval, polygon_features, polygon_output_folder): \n",
    "    \n",
    "    # Select focus feature \n",
    "    focus_point                   = select_feature_by_attribute(focus_features, focus_field, focus_value)\n",
    "    \n",
    "    # Create selection distance dictionary \n",
    "    selection_distance_dictionary = create_selection_distance_dictionary(starting_hi, ending_hi, interval)\n",
    "    \n",
    "    # Export from selection distance dictionary \n",
    "    export_paths                  = export_from_selection_distance_dictionary(selection_distance_dictionary, polygon_features, focus_point, focus_value, polygon_output_folder)\n",
    "    \n",
    "    return export_paths "
   ]
  }
 ],
 "metadata": {
  "kernelspec": {
   "display_name": "ArcGISPro",
   "language": "Python",
   "name": "python3"
  },
  "language_info": {
   "file_extension": ".py",
   "name": "python",
   "version": "3"
  }
 },
 "nbformat": 4,
 "nbformat_minor": 2
}
