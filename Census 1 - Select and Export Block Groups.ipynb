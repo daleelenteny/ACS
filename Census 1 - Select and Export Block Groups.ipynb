{
 "cells": [
  {
   "cell_type": "code",
   "execution_count": 107,
   "metadata": {},
   "outputs": [],
   "source": [
    "'''\n",
    "Select an individual feature by attribute value from one feature class, then select features from another feature class by distance from the original feature. \n",
    "Originally used for selecting census block groups within a specified distance of a point feature. \n",
    "'''\n",
    "def select_feature_by_attribute(focus_features, focus_field, focus_value, target_features, selection_distance, output_path, overwrite): \n",
    "    \n",
    "    # Construct SQL \n",
    "    sql = f\"{focus_field} = '{focus_value}'\"\n",
    "\n",
    "    # Apply attribute selection \n",
    "    focus_selection, count          = arcpy.management.SelectLayerByAttribute(focus_features, 'NEW_SELECTION', sql)\n",
    "    if count == '0': \n",
    "        print('No focus features selected')\n",
    "    elif count != '1': \n",
    "        print(f'{count} focus features found')\n",
    "    else: \n",
    "        print('Focus feature selected')\n",
    "    \n",
    "    target_selection, merge, count  = arcpy.management.SelectLayerByLocation(target_features, 'WITHIN_A_DISTANCE', focus_features, selection_distance, 'NEW_SELECTION')\n",
    "    print(f'Selected  : {count} features')\n",
    "    \n",
    "    # Export target selection \n",
    "    if arcpy.Exists(output_path) and overwrite == True or arcpy.Exists(output_path) == False: \n",
    "        print(f'Exporting : {output_path}')\n",
    "        arcpy.conversion.ExportFeatures(target_selection, output_path)\n",
    "    elif arcpy.Exists(output_path) and overwrite == False: \n",
    "        print(f'Feature class exists: {output_path}')\n",
    "    \n",
    "    return output_path"
   ]
  },
  {
   "cell_type": "code",
   "execution_count": 108,
   "metadata": {},
   "outputs": [],
   "source": [
    "'''\n",
    "Parameters\n",
    "'''\n",
    "\n",
    "import os \n",
    "\n",
    "# Focus inputs \n",
    "focus_features     = r'C:\\DALE\\Personal\\Minnesota\\MyProject\\ACS.gdb\\Focus_Points'\n",
    "focus_field        = 'NAME'\n",
    "focus_value        = 'Wilder'\n",
    "\n",
    "# Target inputs \n",
    "target_features    = r'C:\\DALE\\Personal\\Minnesota\\MyProject\\ACS.gdb\\Metro_Block_Groups'\n",
    "selection_distance = '3 Miles'\n",
    "\n",
    "# Output \n",
    "gdb                = r'C:\\DALE\\Personal\\Minnesota\\MyProject\\ACS.gdb'\n",
    "output_name        = focus_value + \"_\" + selection_distance.replace(\" \", \"\")\n",
    "output_path        = os.path.join(gdb, output_name)\n",
    "overwrite          = True "
   ]
  },
  {
   "cell_type": "code",
   "execution_count": 109,
   "metadata": {},
   "outputs": [
    {
     "name": "stdout",
     "output_type": "stream",
     "text": [
      "Focus feature selected\n",
      "Selected  : 194 features\n",
      "Exporting : C:\\DALE\\Personal\\Minnesota\\MyProject\\ACS.gdb\\Wilder_3Miles\n"
     ]
    }
   ],
   "source": [
    "'''\n",
    "Run \n",
    "'''\n",
    "output_path = select_feature_by_attribute(focus_features, focus_field, focus_value, target_features, selection_distance, output_path, overwrite)"
   ]
  }
 ],
 "metadata": {
  "kernelspec": {
   "display_name": "ArcGISPro",
   "language": "Python",
   "name": "python3"
  },
  "language_info": {
   "file_extension": ".py",
   "name": "python",
   "version": "3"
  }
 },
 "nbformat": 4,
 "nbformat_minor": 2
}
