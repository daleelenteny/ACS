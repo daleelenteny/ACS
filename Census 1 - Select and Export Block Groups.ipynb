{
 "cells": [
  {
   "cell_type": "code",
   "execution_count": 3,
   "metadata": {},
   "outputs": [],
   "source": [
    "'''\n",
    "Select an individual feature by attribute value from one feature class, then select features from another feature class by distance from the original feature. \n",
    "Originally used for selecting census block groups within a specified distance of a point feature. \n",
    "'''\n",
    "def select_feature_by_attribute(focus_features, focus_field, focus_value, geo_features, selection_distance, output_path, overwrite): \n",
    "    \n",
    "    # Construct SQL \n",
    "    sql = f\"{focus_field} = '{focus_value}'\"\n",
    "\n",
    "    # Apply attribute selection \n",
    "    focus_selection, count          = arcpy.management.SelectLayerByAttribute(focus_features, 'NEW_SELECTION', sql)\n",
    "    if count == '0': \n",
    "        print('No focus features selected')\n",
    "    elif count != '1': \n",
    "        print(f'{count} focus features found')\n",
    "    else: \n",
    "        print('Focus feature selected')\n",
    "    \n",
    "    # Select by distance \n",
    "    target_selection, merge, count  = arcpy.management.SelectLayerByLocation(geo_features, 'WITHIN_A_DISTANCE', focus_features, selection_distance, 'NEW_SELECTION')\n",
    "    print(f'Selected  : {count} features')\n",
    "    \n",
    "    # Export target selection \n",
    "    if arcpy.Exists(output_path) and overwrite == True or arcpy.Exists(output_path) == False: \n",
    "        print(f'Exporting : {output_path}')\n",
    "        arcpy.conversion.ExportFeatures(target_selection, output_path)\n",
    "    elif arcpy.Exists(output_path) and overwrite == False: \n",
    "        print(f'Feature class exists: {output_path}')\n",
    "    \n",
    "    return output_path"
   ]
  },
  {
   "cell_type": "code",
   "execution_count": 4,
   "metadata": {},
   "outputs": [
    {
     "name": "stdout",
     "output_type": "stream",
     "text": [
      "Focus feature selected\n",
      "Selected  : 15703 features\n",
      "Exporting : C:\\DALE\\Personal\\Minnesota\\GIS Projects\\ACS\\Output Data\\Block Group Shapefiles\\Strube_6Miles.shp\n"
     ]
    }
   ],
   "source": [
    "'''\n",
    "Parameters\n",
    "'''\n",
    "\n",
    "import os \n",
    "\n",
    "# Focus inputs \n",
    "focus_features     = r'C:\\DALE\\Personal\\Minnesota\\MyProject\\ACS.gdb\\Focus_Points'\n",
    "focus_field        = 'NAME'\n",
    "focus_value        = 'Strube'\n",
    "\n",
    "# Target inputs \n",
    "geo_features       = r'C:\\DALE\\Personal\\Minnesota\\MyProject\\SQLServer-IT-GISDB-monroegis(gisdata).sde\\monroegis.DBO.TAXPARMaster_Master2024'\n",
    "selection_distance = '6 Miles'\n",
    "\n",
    "# Output \n",
    "output_folder      = r'C:\\DALE\\Personal\\Minnesota\\GIS Projects\\ACS\\Output Data\\Block Group Shapefiles'\n",
    "output_name        = focus_value + \"_\" + selection_distance.replace(\" \", \"\")\n",
    "geo_output         = os.path.join(output_folder, output_name + '.shp')\n",
    "overwrite          = True \n",
    "\n",
    "'''\n",
    "Run \n",
    "'''\n",
    "geo_output = select_feature_by_attribute(focus_features, focus_field, focus_value, geo_features, selection_distance, geo_output, overwrite)"
   ]
  }
 ],
 "metadata": {
  "kernelspec": {
   "display_name": "ArcGISPro",
   "language": "Python",
   "name": "python3"
  },
  "language_info": {
   "file_extension": ".py",
   "name": "python",
   "version": "3"
  }
 },
 "nbformat": 4,
 "nbformat_minor": 2
}
