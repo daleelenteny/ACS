{
 "cells": [
  {
   "cell_type": "code",
   "execution_count": null,
   "metadata": {},
   "outputs": [],
   "source": [
    "'''\n",
    "Return variables dictionary from JSON url \n",
    "'''\n",
    "def read_census_json(json_url): \n",
    "    \n",
    "    # Make a GET request to the JSON url \n",
    "    response = requests.get(json_url)\n",
    "    \n",
    "    # Check if it was successful (status code == 200)\n",
    "    if response.status_code == 200: \n",
    "        # This is the initial response, in dictionary form \n",
    "        json_dict = response.json()\n",
    "        # There is only one key, so reassign the dictionary variable to that key \n",
    "        variables_dict = json_dict['variables']\n",
    "    else: \n",
    "        print(\"Couldn't read JSON\")\n",
    "    \n",
    "    print(\"JSON dictionary returned\")\n",
    "    \n",
    "    return variables_dict"
   ]
  },
  {
   "cell_type": "code",
   "execution_count": null,
   "metadata": {},
   "outputs": [],
   "source": [
    "'''\n",
    "Rename columns\n",
    "'''\n",
    "def label_index_values(json_list, code_label_dictionary): \n",
    "    \n",
    "    index_list = json_list[0][0]\n",
    "\n",
    "    for i, index in enumerate(index_list): \n",
    "\n",
    "        try: \n",
    "            index_list[i] = code_label_dictionary[index]\n",
    "        except: \n",
    "            pass \n",
    "    \n",
    "    return index_list "
   ]
  },
  {
   "cell_type": "code",
   "execution_count": null,
   "metadata": {},
   "outputs": [],
   "source": [
    "'''\n",
    "Convert JSON to dictionary\n",
    "'''\n",
    "def json_to_dictionary(json_list, index_list): \n",
    "\n",
    "    output_dictionary = {} \n",
    "\n",
    "    for element in json_list: \n",
    "        if element[1] == index_list: \n",
    "            for index in index_list: \n",
    "                output_dictionary[index] = [] \n",
    "\n",
    "        else: \n",
    "            for i, variable in enumerate(element[1]): \n",
    "                output_dictionary[index_list[i]].append(variable)\n",
    "\n",
    "    return output_dictionary"
   ]
  },
  {
   "cell_type": "code",
   "execution_count": null,
   "metadata": {},
   "outputs": [],
   "source": [
    "#################################################################################################################"
   ]
  },
  {
   "cell_type": "code",
   "execution_count": null,
   "metadata": {},
   "outputs": [],
   "source": [
    "'''\n",
    "Converts output of API calls to dataframe. Index is created from variables, rows each represent a block group. \n",
    "'''\n",
    "\n",
    "def json_list_to_dataframe(json_list):\n",
    "\n",
    "    output_dictionary = {} \n",
    "    \n",
    "    index_list = json_list[0][0]\n",
    "    \n",
    "    for index in index_list: \n",
    "        output_dictionary[index] = []\n",
    "\n",
    "    for json in json_list: \n",
    "        values = json[1]\n",
    "\n",
    "        for i, value in enumerate(values): \n",
    "            output_dictionary[index_list[i]].append(value)\n",
    "\n",
    "    api_dataframe = pd.DataFrame.from_dict(output_dictionary)\n",
    "    api_dataframe = api_dataframe.rename(columns = code_label_dictionary)\n",
    "    \n",
    "    api_dataframe['FIPS'] = api_dataframe['state'] + api_dataframe['county'] + api_dataframe['tract'] + api_dataframe['block group']\n",
    "    \n",
    "    return api_dataframe "
   ]
  },
  {
   "cell_type": "code",
   "execution_count": null,
   "metadata": {},
   "outputs": [],
   "source": [
    "'''\n",
    "Change columns to integers if value is numeric. \n",
    "'''\n",
    "def change_columns_to_integers(dataframe): \n",
    "    \n",
    "    for column in dataframe.columns: \n",
    "\n",
    "        try: \n",
    "            dataframe[column] = dataframe[column].astype(int)\n",
    "        except: \n",
    "            pass\n",
    "            \n",
    "    return dataframe "
   ]
  },
  {
   "cell_type": "code",
   "execution_count": null,
   "metadata": {},
   "outputs": [],
   "source": [
    "'''\n",
    "Calculate percentage columns. \n",
    "'''\n",
    "def calculate_percentage_columns(dataframe):\n",
    "    \n",
    "    # Iterate through columns \n",
    "    for column in dataframe.columns:\n",
    "        \n",
    "        # If it is in the dictionary\n",
    "        if column in code_label_dictionary.values(): \n",
    "            \n",
    "            # Identify the column's position  \n",
    "            column_position = dataframe.columns.get_loc(column) + 1\n",
    "            # Calculate its value\n",
    "            percentage_formula = (dataframe[column]/dataframe['Total Population'])*100\n",
    "            # Insert the new column \n",
    "            dataframe.insert(column_position, f'% {column}', round(percentage_formula, 2))\n",
    "            \n",
    "    return dataframe "
   ]
  },
  {
   "cell_type": "code",
   "execution_count": null,
   "metadata": {},
   "outputs": [],
   "source": [
    "'''\n",
    "Master Function \n",
    "'''\n",
    "\n",
    "def create_api_dataframe(json_list): \n",
    "\n",
    "    api_dataframe = json_list_to_dataframe(json_list)\n",
    "    api_dataframe = change_columns_to_integers(api_dataframe)\n",
    "    api_datafrmae = calculate_percentage_columns(api_dataframe)\n",
    "    \n",
    "    return api_dataframe\n",
    "\n",
    "'''\n",
    "Parameters\n",
    "'''\n",
    "json_list\n",
    "\n",
    "'''\n",
    "Run\n",
    "'''\n",
    "api_dataframe = create_api_dataframe(json_list)\n",
    "\n",
    "api_dataframe"
   ]
  }
 ],
 "metadata": {
  "kernelspec": {
   "display_name": "ArcGISPro",
   "language": "Python",
   "name": "python3"
  },
  "language_info": {
   "file_extension": ".py",
   "name": "python",
   "version": "3"
  }
 },
 "nbformat": 4,
 "nbformat_minor": 2
}
