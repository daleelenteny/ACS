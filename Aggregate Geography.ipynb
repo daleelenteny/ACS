{
 "cells": [
  {
   "cell_type": "code",
   "execution_count": 346,
   "metadata": {},
   "outputs": [],
   "source": [
    "# Census 1 \n",
    "'''\n",
    "Select an individual feature by attribute value from one feature class, then select features from another feature class by distance from the original feature. \n",
    "Originally used for selecting census block groups within a specified distance of a point feature. \n",
    "'''\n",
    "def select_feature_by_attribute(focus_features, focus_field, focus_value): \n",
    "    \n",
    "    # Construct SQL \n",
    "    sql = f\"{focus_field} = '{focus_value}'\"\n",
    "\n",
    "    # Apply attribute selection \n",
    "    focus_point, count          = arcpy.management.SelectLayerByAttribute(focus_features, 'NEW_SELECTION', sql)\n",
    "    if count == '0': \n",
    "        print('No focus features selected')\n",
    "    elif count != 1: \n",
    "        print(f'Feature selected: {focus_value}')\n",
    "        pass\n",
    "    else: \n",
    "        print(f'Multiple features selected: {count}')\n",
    "        \n",
    "    return focus_point"
   ]
  },
  {
   "cell_type": "code",
   "execution_count": 347,
   "metadata": {},
   "outputs": [],
   "source": [
    "def export_polygons_by_distance(polygon_input, selection_distance, polygon_output_folder, polygon_output_name): \n",
    "    \n",
    "    # Select by distance \n",
    "    polygon_selection, merge, count = arcpy.management.SelectLayerByLocation(polygon_input, 'WITHIN_A_DISTANCE', focus_point, selection_distance)\n",
    "    print(f'Selected  : {count} features')\n",
    "    \n",
    "    # Designate output path \n",
    "    polygon_output_path = os.path.join(polygon_output_folder, polygon_output_name)\n",
    "    \n",
    "    # Export target selection \n",
    "    try: \n",
    "        arcpy.conversion.ExportFeatures(polygon_selection, polygon_output_path)\n",
    "    except: \n",
    "        print('boop')\n",
    "        arcpy.management.Delete(polygon_output_path)\n",
    "        arcpy.conversion.ExportFeatures(polygon_selection, polygon_output_path)\n",
    "        \n",
    "    print(f'Exported  : {polygon_output_path}')\n",
    "\n",
    "    return polygon_output_path "
   ]
  },
  {
   "cell_type": "code",
   "execution_count": 348,
   "metadata": {},
   "outputs": [],
   "source": [
    "def create_selection_distance_dictionary(starting_hi, ending_hi, interval): \n",
    "    \n",
    "    selection_distance_dictionary = {} \n",
    "\n",
    "    for i in range(starting_hi, ending_hi, interval): \n",
    "        selection_distance_dictionary[i] = i + interval\n",
    "        \n",
    "    return selection_distance_dictionary"
   ]
  },
  {
   "cell_type": "code",
   "execution_count": 355,
   "metadata": {},
   "outputs": [],
   "source": [
    "def export_from_selection_distance_dictionary(selection_distance_dictionary, polygon_input, focus_point, export_folder, export_name, map_name): \n",
    "    \n",
    "    # Initialize list of exports \n",
    "    export_paths = []\n",
    "    \n",
    "    # Iterate through dictionary \n",
    "    for low_distance, high_distance in selection_distance_dictionary.items(): \n",
    "\n",
    "        # High selection distance \n",
    "        selection_distance = f\"{high_distance} Miles\"\n",
    "        print(selection_distance)\n",
    "\n",
    "        # Make initial selection \n",
    "        high_selection, merge, high_count = arcpy.management.SelectLayerByLocation(polygon_input, 'WITHIN_A_DISTANCE', focus_point, selection_distance)\n",
    "\n",
    "        print(f'{high_count} features selected at {selection_distance}')\n",
    "\n",
    "        if low_distance != 0: \n",
    "            # Low selection distance \n",
    "            selection_distance = f\"{low_distance} Miles\"\n",
    "\n",
    "            # Remove selection \n",
    "            low_selection, merge, low_count  = arcpy.management.SelectLayerByLocation(high_selection, 'WITHIN_A_DISTANCE', focus_point, selection_distance, selection_type = 'REMOVE_FROM_SELECTION')\n",
    "            print(f'{low_count} features removed from selection')\n",
    "\n",
    "            # Export \n",
    "            export_path   = os.path.join(export_folder, f'{export_name}_{high_distance}.shp')\n",
    "            arcpy.conversion.ExportFeatures(low_selection, export_path)\n",
    "\n",
    "        else: \n",
    "            low_count = 0 \n",
    "\n",
    "            # Export \n",
    "            export_path   = os.path.join(export_folder, f'Minneapolis_{high_distance}.shp')\n",
    "            arcpy.conversion.ExportFeatures(high_selection, export_path)\n",
    "\n",
    "        # Map \n",
    "        mp = aprx.listMaps(map_name)[0]\n",
    "        mp.addDataFromPath(export_path)\n",
    "        \n",
    "        # Exports \n",
    "        export_paths.append(export_path)\n",
    "            \n",
    "    return export_paths "
   ]
  },
  {
   "cell_type": "code",
   "execution_count": 356,
   "metadata": {},
   "outputs": [],
   "source": [
    "'''\n",
    "Parameters \n",
    "'''\n",
    "# Find Focus Point \n",
    "focus_features  = r'C:\\DALE\\Personal\\Minnesota\\MyProject\\ACS.gdb\\City_Points'\n",
    "focus_field     = 'NAME'\n",
    "focus_value     = 'Chicago'\n",
    "\n",
    "# Export Block Groups \n",
    "export_name           = \"\"\n",
    "polygon_input         = r'C:\\DALE\\Personal\\Minnesota\\GIS Projects\\ACS\\Block_Groups.gdb\\ACS'\n",
    "polygon_output_folder = r'C:\\DALE\\Personal\\Minnesota\\GIS Projects\\ACS\\Output Data\\Block Group Shapefiles'\n",
    "polygon_output_name   = focus_value + \" \" + selection_distance + '.shp'\n",
    "\n",
    "# Map \n",
    "map_name        = 'Census'\n",
    "\n",
    "# Selection Distance dictionary \n",
    "low       = 0\n",
    "high      = 50\n",
    "interval  = 5"
   ]
  },
  {
   "cell_type": "code",
   "execution_count": 357,
   "metadata": {},
   "outputs": [
    {
     "name": "stdout",
     "output_type": "stream",
     "text": [
      "Feature selected: Chicago\n"
     ]
    }
   ],
   "source": [
    "'''\n",
    "Export block groups by window \n",
    "'''\n",
    "\n",
    "# Select focus feature \n",
    "focus_point = select_feature_by_attribute(focus_features, focus_field, focus_value)\n",
    "\n",
    "# Create export folder \n",
    "export_folder = os.path.join(polygon_output_folder, focus_value)\n",
    "\n",
    "try: \n",
    "    os.mkdir(export_folder)\n",
    "ex\n",
    "    \n",
    "# Create distance dictionary\n",
    "selection_distance_dictionary = create_selection_distance_dictionary(0, 50, 5)"
   ]
  },
  {
   "cell_type": "code",
   "execution_count": 360,
   "metadata": {},
   "outputs": [
    {
     "ename": "FileExistsError",
     "evalue": "[WinError 183] Cannot create a file when that file already exists: 'C:\\\\DALE\\\\Personal\\\\Minnesota\\\\GIS Projects\\\\ACS\\\\Output Data\\\\Block Group Shapefiles\\\\Chicago'",
     "output_type": "error",
     "traceback": [
      "\u001b[0;31m---------------------------------------------------------------------------\u001b[0m\n\u001b[0;31mFileExistsError\u001b[0m                           Traceback (most recent call last)",
      "In  \u001b[0;34m[360]\u001b[0m:\nLine \u001b[0;34m1\u001b[0m:     os.mkdir(os.path.join(polygon_output_folder, focus_value))\u001b[37m\u001b[39;49;00m\n",
      "\u001b[0;31mFileExistsError\u001b[0m: [WinError 183] Cannot create a file when that file already exists: 'C:\\\\DALE\\\\Personal\\\\Minnesota\\\\GIS Projects\\\\ACS\\\\Output Data\\\\Block Group Shapefiles\\\\Chicago'\n\u001b[0;31m---------------------------------------------------------------------------\u001b[0m"
     ]
    }
   ],
   "source": [
    "os.mkdir(os.path.join(polygon_output_folder, focus_value))"
   ]
  },
  {
   "cell_type": "code",
   "execution_count": 358,
   "metadata": {},
   "outputs": [
    {
     "name": "stdout",
     "output_type": "stream",
     "text": [
      "5 Miles\n",
      "468 features selected at 5 Miles\n"
     ]
    },
    {
     "ename": "TypeError",
     "evalue": "expected str, bytes or os.PathLike object, not NoneType",
     "output_type": "error",
     "traceback": [
      "\u001b[0;31m---------------------------------------------------------------------------\u001b[0m\n\u001b[0;31mTypeError\u001b[0m                                 Traceback (most recent call last)",
      "In  \u001b[0;34m[358]\u001b[0m:\nLine \u001b[0;34m1\u001b[0m:     export_paths                  = export_from_selection_distance_dictionary(selection_distance_dictionary, polygon_input, focus_point, export_folder, focus_value, map_name)\u001b[37m\u001b[39;49;00m\n",
      "In  \u001b[0;34m[355]\u001b[0m:\nLine \u001b[0;34m34\u001b[0m:    export_path   = os.path.join(export_folder, \u001b[33mf\u001b[39;49;00m\u001b[33m'\u001b[39;49;00m\u001b[33mMinneapolis_\u001b[39;49;00m\u001b[33m{\u001b[39;49;00mhigh_distance\u001b[33m}\u001b[39;49;00m\u001b[33m.shp\u001b[39;49;00m\u001b[33m'\u001b[39;49;00m)\u001b[37m\u001b[39;49;00m\n",
      "File \u001b[0;34mC:\\Users\\delenteny\\AppData\\Local\\ESRI\\conda\\envs\\custom-env\\lib\\ntpath.py\u001b[0m, in \u001b[0;32mjoin\u001b[0m:\nLine \u001b[0;34m78\u001b[0m:    path = os.fspath(path)\u001b[37m\u001b[39;49;00m\n",
      "\u001b[0;31mTypeError\u001b[0m: expected str, bytes or os.PathLike object, not NoneType\n\u001b[0;31m---------------------------------------------------------------------------\u001b[0m"
     ]
    }
   ],
   "source": [
    "export_paths                  = export_from_selection_distance_dictionary(selection_distance_dictionary, polygon_input, focus_point, export_folder, focus_value, map_name)"
   ]
  }
 ],
 "metadata": {
  "kernelspec": {
   "display_name": "ArcGISPro",
   "language": "Python",
   "name": "python3"
  },
  "language_info": {
   "file_extension": ".py",
   "name": "python",
   "version": "3"
  }
 },
 "nbformat": 4,
 "nbformat_minor": 2
}
