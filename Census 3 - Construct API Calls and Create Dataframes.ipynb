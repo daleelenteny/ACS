{
 "cells": [
  {
   "cell_type": "code",
   "execution_count": null,
   "metadata": {},
   "outputs": [],
   "source": [
    "'''\n",
    "Return variables dictionary from JSON url \n",
    "'''\n",
    "def read_census_json(json_url): \n",
    "    \n",
    "    # Make a GET request to the JSON url \n",
    "    response = requests.get(json_url)\n",
    "    \n",
    "    # Check if it was successful (status code == 200)\n",
    "    if response.status_code == 200: \n",
    "        # This is the initial response, in dictionary form \n",
    "        json_dict = response.json()\n",
    "        # There is only one key, so reassign the dictionary variable to that key \n",
    "        variables_dict = json_dict['variables']\n",
    "    else: \n",
    "        print(\"Couldn't read JSON\")\n",
    "    \n",
    "    print(\"JSON dictionary returned\")\n",
    "    \n",
    "    return variables_dict"
   ]
  },
  {
   "cell_type": "code",
   "execution_count": null,
   "metadata": {},
   "outputs": [],
   "source": [
    "'''\n",
    "Rename columns\n",
    "'''\n",
    "def label_index_values(json_list, code_label_dictionary): \n",
    "    \n",
    "    index_list = json_list[0][0]\n",
    "\n",
    "    for i, index in enumerate(index_list): \n",
    "\n",
    "        try: \n",
    "            index_list[i] = code_label_dictionary[index]\n",
    "        except: \n",
    "            pass \n",
    "    \n",
    "    return index_list "
   ]
  },
  {
   "cell_type": "code",
   "execution_count": null,
   "metadata": {},
   "outputs": [],
   "source": [
    "def json_to_dictionary(json_list, index_list): \n",
    "\n",
    "    output_dictionary = {} \n",
    "\n",
    "    for element in json_list: \n",
    "        if element[1] == index_list: \n",
    "            for index in index_list: \n",
    "                output_dictionary[index] = [] \n",
    "\n",
    "        else: \n",
    "            for i, variable in enumerate(element[1]): \n",
    "                output_dictionary[index_list[i]].append(variable)\n",
    "\n",
    "    return output_dictionary"
   ]
  },
  {
   "cell_type": "code",
   "execution_count": null,
   "metadata": {},
   "outputs": [],
   "source": [
    "# PARAMETERS \n",
    "block_groups_fc_path = r\"C:\\DALE\\Personal\\Minnesota\\MyProject\\MyProject.gdb\\Como_Park_Block_Groups\""
   ]
  },
  {
   "cell_type": "code",
   "execution_count": null,
   "metadata": {},
   "outputs": [],
   "source": [
    "# Run functions \n",
    "api_key           = r\"1749dc1d87964116107a80cd7d76fca300dda59f\"\n",
    "variable_string   = create_variable_string(variable_codes)\n",
    "api_urls          = construct_api_urls(block_groups_fc_path, api_key, variable_string)\n",
    "json_list         = call_census_api(api_urls)\n",
    "index_list        = label_index_values(json_list, code_label_dictionary)"
   ]
  },
  {
   "cell_type": "code",
   "execution_count": null,
   "metadata": {},
   "outputs": [],
   "source": [
    "census_dataframe  = json_list_to_dataframe(json_list, index_list)\n",
    "census_dataframe  = change_columns_to_integers(census_dataframe)\n",
    "census_dataframe  = calculate_percentage_columns(census_dataframe)"
   ]
  },
  {
   "cell_type": "code",
   "execution_count": 9,
   "metadata": {},
   "outputs": [],
   "source": [
    "##########################################################################################\n",
    "##########################################################################################\n",
    "##########################################################################################\n",
    "##########################################################################################"
   ]
  },
  {
   "cell_type": "code",
   "execution_count": 10,
   "metadata": {},
   "outputs": [],
   "source": [
    "'''\n",
    "Create variable string. \n",
    "'''\n",
    "\n",
    "def create_variable_string(variable_codes): \n",
    "    \n",
    "    # Initialize empty variable string \n",
    "    variable_string = r\"NAME,B01001_001E\"\n",
    "\n",
    "    # Iterate through filtered dictionary \n",
    "    for code in variable_codes: \n",
    "        variable_string = variable_string + ',' + code\n",
    "    \n",
    "    return variable_string "
   ]
  },
  {
   "cell_type": "code",
   "execution_count": 11,
   "metadata": {},
   "outputs": [],
   "source": [
    "'''\n",
    "Use the geographic field attributes of the feature classes to create a list of urls \n",
    "'''\n",
    "def construct_api_urls(fc_path, api_key, variable_string): \n",
    "    \n",
    "    api_urls = []\n",
    "    \n",
    "    with arcpy.da.SearchCursor(fc_path, ['STATE', 'COUNTY', 'TRACT', 'BLKGRP']) as cursor: \n",
    "        for row in cursor: \n",
    "            state       = row[0]\n",
    "            county      = row[1] \n",
    "            tract       = row[2] \n",
    "            block_group = row[3] \n",
    "\n",
    "            var_clause    = fr\"https://api.census.gov/data/2022/acs/acs5?get={variable_string}\"\n",
    "            geo_clause    = fr\"&for=block%20group:{block_group}&in=state:{state}%20county:{county}%20tract:{tract}\"\n",
    "            key_clause    = fr\"&key={api_key}\"\n",
    "\n",
    "            api_url       = var_clause + geo_clause + key_clause\n",
    "            api_urls.append(api_url)\n",
    "        \n",
    "    return api_urls"
   ]
  },
  {
   "cell_type": "code",
   "execution_count": 12,
   "metadata": {},
   "outputs": [],
   "source": [
    "'''\n",
    "Iterate through API URLs and receive dictionary of responses \n",
    "'''\n",
    "\n",
    "def call_census_api(api_urls):\n",
    "    \n",
    "    json_list = [] \n",
    "    url_count = 0\n",
    "    \n",
    "    # Initialize time \n",
    "    time_1  = time.time() \n",
    "    \n",
    "    # Send API call \n",
    "    for url in api_urls: \n",
    "        url_count += 1 \n",
    "        \n",
    "        print(f'Call #{url_count} / {len(api_urls)}')\n",
    "        response = requests.get(url)\n",
    "        print(\">>> Sent request\")\n",
    "\n",
    "        print(\"Checking status:\")\n",
    "        if response.status_code == 200: \n",
    "            json_list.append(response.json())\n",
    "            print(\">>> Good\")\n",
    "\n",
    "        else: \n",
    "            print('>>> Error: ', response.status_code)\n",
    "            \n",
    "        # Measure and print elapsed time \n",
    "        time_2  = time.time() \n",
    "        elapsed = round(time_2 - time_1, 2) \n",
    "        print(f'Elapsed time:')\n",
    "        print(f\">>> {elapsed}\")\n",
    "        print(\" \")\n",
    "    \n",
    "    return json_list"
   ]
  },
  {
   "cell_type": "code",
   "execution_count": 13,
   "metadata": {},
   "outputs": [],
   "source": [
    "def json_list_to_dataframe(json_list):\n",
    "\n",
    "    output_dictionary = {} \n",
    "    \n",
    "    index_list = json_list[0][0]\n",
    "    \n",
    "    for index in index_list: \n",
    "        output_dictionary[index] = []\n",
    "\n",
    "    for json in json_list: \n",
    "        values = json[1]\n",
    "\n",
    "        for i, value in enumerate(values): \n",
    "            output_dictionary[index_list[i]].append(value)\n",
    "\n",
    "    df = pd.DataFrame.from_dict(output_dictionary)\n",
    "    df = df.rename(columns = code_label_dictionary)\n",
    "    \n",
    "    df['GEOID'] = df['state'] + df['county'] + df['tract'] + df['block group']\n",
    "    \n",
    "    return df "
   ]
  },
  {
   "cell_type": "code",
   "execution_count": 14,
   "metadata": {},
   "outputs": [],
   "source": [
    "def change_columns_to_integers(dataframe): \n",
    "    \n",
    "    for column in dataframe.columns: \n",
    "\n",
    "        try: \n",
    "            dataframe[column] = dataframe[column].astype(int)\n",
    "        except: \n",
    "            pass\n",
    "            \n",
    "    return dataframe "
   ]
  },
  {
   "cell_type": "code",
   "execution_count": 15,
   "metadata": {},
   "outputs": [],
   "source": [
    "def calculate_percentage_columns(dataframe):\n",
    "\n",
    "    for column in dataframe.columns: \n",
    "        if column in code_label_dictionary.values(): \n",
    "            column_position = dataframe.columns.get_loc(column) + 1\n",
    "            percentage_formula = (dataframe[column]/dataframe['Total Population'])*100\n",
    "            dataframe.insert(column_position, f'% {column}', round(percentage_formula, 2))\n",
    "            \n",
    "    return dataframe "
   ]
  }
 ],
 "metadata": {
  "kernelspec": {
   "display_name": "ArcGISPro",
   "language": "Python",
   "name": "python3"
  },
  "language_info": {
   "file_extension": ".py",
   "name": "python",
   "version": "3"
  }
 },
 "nbformat": 4,
 "nbformat_minor": 2
}
