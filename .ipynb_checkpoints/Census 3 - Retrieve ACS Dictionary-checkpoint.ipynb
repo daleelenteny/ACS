{
 "cells": [
  {
   "cell_type": "code",
   "execution_count": 206,
   "metadata": {},
   "outputs": [],
   "source": [
    "'''\n",
    "Return a list of variable codes based on a designated group code. \n",
    "'''\n",
    "def find_variable_codes(input_group_code, group_dictionary): \n",
    "    \n",
    "    # For group code, concept/codes dictionary\n",
    "    for group_code, concept_codes_dict in group_dictionary.items(): \n",
    "        if group_code == input_group_code: \n",
    "            variable_codes = concept_codes_dict['codes']\n",
    "            \n",
    "    return variable_codes "
   ]
  },
  {
   "cell_type": "code",
   "execution_count": 207,
   "metadata": {},
   "outputs": [],
   "source": [
    "'''\n",
    "This creates a dictionary of codes and their values. \n",
    "'''\n",
    "def create_code_label_dictionary(variable_codes, json_dictionary): \n",
    "    \n",
    "    code_label_dictionary = {} \n",
    "    code_label_dictionary['B01001_001E'] = 'Total Population'\n",
    "\n",
    "    for code in variable_codes: \n",
    "        label = json_dictionary[code]['label'].split('!!')[-1]\n",
    "        code_label_dictionary[code] = label \n",
    "\n",
    "    return code_label_dictionary"
   ]
  },
  {
   "cell_type": "code",
   "execution_count": 208,
   "metadata": {},
   "outputs": [],
   "source": [
    "'''\n",
    "Master Fucntion \n",
    "'''\n",
    "def return_acs_dictionary(input_group_code, json_dictionary, group_dictionary):\n",
    "    \n",
    "    # Find relevant codes \n",
    "    variable_codes        = find_variable_codes(input_group_code, group_dictionary)\n",
    "    code_label_dictionary = create_code_label_dictionary(variable_codes, json_dictionary)\n",
    "    \n",
    "    return variable_codes, code_label_dictionary"
   ]
  },
  {
   "cell_type": "code",
   "execution_count": 209,
   "metadata": {},
   "outputs": [],
   "source": [
    "'''\n",
    "Parameters\n",
    "'''\n",
    "\n",
    "input_group_code = 'B09002'"
   ]
  },
  {
   "cell_type": "code",
   "execution_count": 210,
   "metadata": {},
   "outputs": [
    {
     "name": "stdout",
     "output_type": "stream",
     "text": [
      "B01001_001E : Total Population\n",
      "B09002_019E : 6 to 11 years\n",
      "B09002_018E : 5 years\n",
      "B09002_017E : 3 and 4 years\n",
      "B09002_016E : Under 3 years\n",
      "B09002_015E : Female householder, no spouse present:\n",
      "B09002_014E : 12 to 17 years\n",
      "B09002_013E : 6 to 11 years\n",
      "B09002_012E : 5 years\n",
      "B09002_011E : 3 and 4 years\n",
      "B09002_010E : Under 3 years\n",
      "B09002_020E : 12 to 17 years\n",
      "B09002_009E : Male householder, no spouse present:\n",
      "B09002_008E : In other families:\n",
      "B09002_007E : 12 to 17 years\n",
      "B09002_006E : 6 to 11 years\n",
      "B09002_005E : 5 years\n",
      "B09002_004E : 3 and 4 years\n",
      "B09002_003E : Under 3 years\n",
      "B09002_002E : In married-couple families:\n",
      "B09002_001E : Total:\n"
     ]
    }
   ],
   "source": [
    "'''\n",
    "Run \n",
    "'''\n",
    "\n",
    "variable_codes, code_label_dictionary = return_acs_dictionary(input_group_code, json_dictionary, group_dictionary)\n",
    "\n",
    "# Print dictionary outputs \n",
    "for c, l in code_label_dictionary.items(): \n",
    "    print(c, \":\", l)"
   ]
  }
 ],
 "metadata": {
  "kernelspec": {
   "display_name": "ArcGISPro",
   "language": "Python",
   "name": "python3"
  },
  "language_info": {
   "file_extension": ".py",
   "name": "python",
   "version": "3"
  }
 },
 "nbformat": 4,
 "nbformat_minor": 2
}
