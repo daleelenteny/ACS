{
 "cells": [
  {
   "cell_type": "code",
   "execution_count": null,
   "metadata": {},
   "outputs": [],
   "source": [
    "'''\n",
    "Return a list of variable codes based on a designated group code. \n",
    "'''\n",
    "def find_variable_codes(input_group_code, group_dictionary): \n",
    "    \n",
    "    # For group code, concept/codes dictionary\n",
    "    for group_code, concept_codes_dict in group_dictionary.items(): \n",
    "        if group_code == input_group_code: \n",
    "            variable_codes = concept_codes_dict['codes']\n",
    "            \n",
    "    return variable_codes "
   ]
  },
  {
   "cell_type": "code",
   "execution_count": null,
   "metadata": {},
   "outputs": [],
   "source": [
    "'''\n",
    "This creates a dictionary of codes and their values. \n",
    "'''\n",
    "def create_code_label_dictionary(variable_codes, json_dictionary): \n",
    "    \n",
    "    code_label_dictionary = {} \n",
    "    code_label_dictionary['B01001_001E'] = 'Total Population'\n",
    "\n",
    "    for code in variable_codes: \n",
    "        label = json_dictionary[code]['label'].split('!!')[-1]\n",
    "        code_label_dictionary[code] = label \n",
    "\n",
    "    return code_label_dictionary"
   ]
  },
  {
   "cell_type": "code",
   "execution_count": null,
   "metadata": {},
   "outputs": [],
   "source": [
    "'''\n",
    "Master Fucntion \n",
    "'''\n",
    "def return_acs_dictionary(input_group_code, json_dictionary, group_dictionary):\n",
    "    \n",
    "    # Find relevant codes \n",
    "    variable_codes        = find_variable_codes(input_group_code, group_dictionary)\n",
    "    code_label_dictionary = create_code_label_dictionary(variable_codes, json_dictionary)\n",
    "    \n",
    "    return variable_codes, code_label_dictionary"
   ]
  }
 ],
 "metadata": {
  "kernelspec": {
   "display_name": "ArcGISPro",
   "language": "Python",
   "name": "python3"
  },
  "language_info": {
   "file_extension": ".py",
   "name": "python",
   "version": "3"
  }
 },
 "nbformat": 4,
 "nbformat_minor": 2
}
