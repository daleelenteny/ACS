{
 "cells": [
  {
   "cell_type": "code",
   "execution_count": null,
   "metadata": {},
   "outputs": [],
   "source": [
    "'''\n",
    "Master Process \n",
    "'''\n",
    "\n",
    "### Create geo output ### \n",
    "if create_geo_output == True: \n",
    "    \n",
    "    focus_selection = select_feature_by_attribute(focus_features, focus_field, focus_value)\n",
    "    geo_output      = export_block_groups_by_distance(geo_features, focus_selection, selection_distance, output_folder, output_name, overwrite, clip, clip_features)\n",
    "\n",
    "else: \n",
    "    geo_output                        = os.path.join(output_folder, output_name)\n",
    "    print('1: Block groups shapefile already exists:')\n",
    "    print(output_folder, output_name)"
   ]
  }
 ],
 "metadata": {
  "kernelspec": {
   "display_name": "ArcGISPro",
   "language": "Python",
   "name": "python3"
  },
  "language_info": {
   "file_extension": ".py",
   "name": "python",
   "version": "3"
  }
 },
 "nbformat": 4,
 "nbformat_minor": 2
}
