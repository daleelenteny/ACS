{
 "cells": [
  {
   "cell_type": "code",
   "execution_count": null,
   "metadata": {},
   "outputs": [],
   "source": [
    "def create_geodataframe(shp_path, keep_columns): \n",
    "    \n",
    "    # Create geodataframe \n",
    "    geodataframe = gpd.read_file(shp_path)\n",
    "    \n",
    "    # Drop unnecessary columns \n",
    "    for column in geodataframe.columns: \n",
    "\n",
    "        if column not in keep_columns: \n",
    "            try: \n",
    "                geodataframe = geodataframe.drop(columns = column)\n",
    "            except: \n",
    "                pass\n",
    "            \n",
    "    return geodataframe\n",
    "\n",
    "def merge_dataframe_with_geometry(geodataframe, dataframe, output_shp_path): \n",
    "    \n",
    "    merge_geodataframe = geodataframe.merge(census_dataframe, on = 'GEOID', how = 'left')\n",
    "    merge_geodataframe.to_file(output_shp_path + \".shp\", driver = 'ESRI Shapefile')\n",
    "    \n",
    "    print(output_shp_path)\n",
    "    \n",
    "    return merge_geodataframe, output_shp_path"
   ]
  },
  {
   "cell_type": "code",
   "execution_count": null,
   "metadata": {},
   "outputs": [],
   "source": [
    "'''\n",
    "Master \n",
    "'''\n",
    "\n",
    "def export_attributed_geodataframe(shp_path, keep_columns, api_dataframe): \n",
    "    \n",
    "    geodataframe =\n",
    "output_path = export_attributed_geodataframe(shp_path, keep_columns, api_dataframe)"
   ]
  }
 ],
 "metadata": {
  "kernelspec": {
   "display_name": "ArcGISPro",
   "language": "Python",
   "name": "python3"
  },
  "language_info": {
   "file_extension": ".py",
   "name": "python",
   "version": "3"
  }
 },
 "nbformat": 4,
 "nbformat_minor": 2
}
