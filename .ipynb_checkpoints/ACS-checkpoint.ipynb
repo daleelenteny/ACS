{
 "cells": [
  {
   "cell_type": "code",
   "execution_count": null,
   "metadata": {},
   "outputs": [],
   "source": [
    "'''\n",
    "Parameters\n",
    "'''\n",
    "\n",
    "import os \n",
    "\n",
    "# Focus inputs \n",
    "focus_features     = r'C:\\DALE\\Personal\\Minnesota\\MyProject\\ACS.gdb\\Focus_Points'\n",
    "focus_field        = 'NAME'\n",
    "focus_value        = 'Wilder'\n",
    "\n",
    "# Target inputs \n",
    "geo_features       = r'C:\\DALE\\Personal\\Minnesota\\GIS Projects\\ACS\\Block_Groups.gdb\\MN'\n",
    "selection_distance = '6 Miles'\n",
    "\n",
    "# Output \n",
    "output_folder      = r'C:\\DALE\\Personal\\Minnesota\\GIS Projects\\ACS\\Output Data\\Block Group Shapefiles'\n",
    "output_name        = focus_value + \"_\" + selection_distance.replace(\" \", \"\")\n",
    "geo_output         = os.path.join(output_folder, output_name + '.shp')\n",
    "overwrite          = True "
   ]
  },
  {
   "cell_type": "code",
   "execution_count": null,
   "metadata": {},
   "outputs": [],
   "source": [
    "'''\n",
    "Run \n",
    "'''\n",
    "geo_output = select_feature_by_attribute(focus_features, focus_field, focus_value, geo_features, selection_distance, geo_output, overwrite)"
   ]
  }
 ],
 "metadata": {
  "kernelspec": {
   "display_name": "ArcGISPro",
   "language": "Python",
   "name": "python3"
  },
  "language_info": {
   "file_extension": ".py",
   "name": "python",
   "version": "3"
  }
 },
 "nbformat": 4,
 "nbformat_minor": 2
}
