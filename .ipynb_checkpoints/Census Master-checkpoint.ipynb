{
 "cells": [
  {
   "cell_type": "code",
   "execution_count": null,
   "metadata": {},
   "outputs": [],
   "source": [
    "'''\n",
    "DEFINE MASTER FUNCTIONS \n",
    "'''\n",
    "\n",
    "# Census 1 \n",
    "def define_geography(map_name, gdb, focus_points, focus_point_name, selection_distance, shp_folder): \n",
    "\n",
    "    # Clear map \n",
    "    mp        = define_map(map_name)\n",
    "    mp        = clear_map(mp)\n",
    "\n",
    "    # Export block group selections \n",
    "    fc_path   = select_block_groups_by_focus_point(focus_point_name, focus_points, block_groups, selection_distance, mp, overwrite = True, add_to_map = True)\n",
    "    \n",
    "    shp_path  = export_shapefiles(fc_path, shp_folder)\n",
    "    \n",
    "    return shp_path\n",
    "\n",
    "# Census 2\n",
    "def view_acs_codes(json_url, filter_words, blocked_words): \n",
    "    \n",
    "    # Read JSON \n",
    "    json_dictionary         = read_census_json(json_url)\n",
    "    group_dictionary        = return_group_dictionary(json_dictionary)\n",
    "\n",
    "    # View the contents \n",
    "    acs_dataframe          = print_group_dictionary(group_dictionary, filter_words, blocked_words, print_groups = False, print_codes = False)\n",
    "    \n",
    "    return json_dictionary, group_dictionary, acs_dataframe \n",
    "\n",
    "def return_acs_dictionary(input_group_code, json_dictionary, group_dictionary):\n",
    "    \n",
    "    # Find relevant codes \n",
    "    variable_codes        = find_variable_codes(input_group_code, group_dictionary)\n",
    "    code_label_dictionary = create_code_label_dictionary(variable_codes, json_dictionary)\n",
    "    \n",
    "    return variable_codes, code_label_dictionary\n",
    "\n",
    "# Census 3 \n",
    "def retrieve_acs_json(variable_codes, shp_path, api_key): \n",
    "    \n",
    "    variable_string = create_variable_string(variable_codes)\n",
    "    api_urls        = construct_api_urls(shp_path, api_key, variable_string)\n",
    "    json_list       = call_census_api(api_urls)\n",
    "    \n",
    "    return json_list\n",
    "\n",
    "def json_to_dataframe(json_list): \n",
    "    \n",
    "    census_dataframe  = json_list_to_dataframe(json_list)\n",
    "    census_dataframe  = change_columns_to_integers(census_dataframe)\n",
    "    census_dataframe  = calculate_percentage_columns(census_dataframe)\n",
    "    \n",
    "    return census_dataframe \n",
    "\n",
    "def create_geodataframe(shp_path, keep_columns): \n",
    "    \n",
    "    # Create geodataframe \n",
    "    geodataframe = gpd.read_file(shp_path)\n",
    "    \n",
    "    # Drop unnecessary columns \n",
    "    for column in geodataframe.columns: \n",
    "\n",
    "        if column not in keep_columns: \n",
    "            try: \n",
    "                geodataframe = geodataframe.drop(columns = column)\n",
    "            except: \n",
    "                pass\n",
    "            \n",
    "    return geodataframe\n",
    "\n",
    "def merge_dataframe_with_geometry(geodataframe, dataframe, output_shp_path): \n",
    "    \n",
    "    merge_geodataframe = geodataframe.merge(census_dataframe, on = 'GEOID', how = 'left')\n",
    "    merge_geodataframe.to_file(output_shp_path + \".shp\", driver = 'ESRI Shapefile')\n",
    "    \n",
    "    print(output_shp_path)\n",
    "    \n",
    "    return merge_geodataframe, output_shp_path"
   ]
  },
  {
   "cell_type": "code",
   "execution_count": null,
   "metadata": {},
   "outputs": [],
   "source": [
    "##########################################################################################\n",
    "##########################################################################################\n",
    "##########################################################################################\n",
    "##########################################################################################"
   ]
  },
  {
   "cell_type": "code",
   "execution_count": null,
   "metadata": {},
   "outputs": [],
   "source": [
    "'''\n",
    "PARAMETERS\n",
    "'''\n",
    "\n",
    "# Imports \n",
    "import os \n",
    "import pandas as pd\n",
    "import geopandas as gpd \n",
    "import requests \n",
    "from pandas import option_context\n",
    "\n",
    "# Map \n",
    "map_name   = 'Census'\n",
    "add_to_map = True \n",
    "\n",
    "# Input Data  \n",
    "block_groups = r\"https://tigerweb.geo.census.gov/arcgis/rest/services/TIGERweb/Tracts_Blocks/MapServer/1\"\n",
    "focus_points = r\"C:\\DALE\\Personal\\Minnesota\\MyProject\\MyProject.gdb\\Focus_Points\"\n",
    "\n",
    "# Output Data \n",
    "gdb          = r\"C:\\DALE\\Personal\\Minnesota\\MyProject\\MyProject.gdb\"\n",
    "shp_folder   = r\"C:\\DALE\\Personal\\Minnesota\\MyProject\\Shapefiles\"\n",
    "output_shp   = os.path.join(shp_folder, 'Minneapolis_MonthlyHousingCosts')\n",
    "\n",
    "# Selection criteria \n",
    "focus_point_name   = 'SMU Minneapolis'\n",
    "selection_distance = '10 Miles'\n",
    "\n",
    "# Variables searching \n",
    "filter_words       = []\n",
    "blocked_words      = []\n",
    "\n",
    "# API call \n",
    "api_key            = r\"1749dc1d87964116107a80cd7d76fca300dda59f\"\n",
    "base_url           = r\"https://api.census.gov/data/2022/acs/acs5\"\n",
    "json_url           = fr\"{base_url}/variables.json\"\n",
    "\n",
    "input_group_code   = 'B08303'\n",
    "\n",
    "# Geodataframe \n",
    "keep_columns       = ['GEOID', 'geometry']"
   ]
  },
  {
   "cell_type": "code",
   "execution_count": 414,
   "metadata": {},
   "outputs": [
    {
     "ename": "NameError",
     "evalue": "name 'view_acs_codes' is not defined",
     "output_type": "error",
     "traceback": [
      "\u001b[0;31m---------------------------------------------------------------------------\u001b[0m\n\u001b[0;31mNameError\u001b[0m                                 Traceback (most recent call last)",
      "In  \u001b[0;34m[414]\u001b[0m:\nLine \u001b[0;34m7\u001b[0m:     json_dictionary, group_dictionary, acs_dataframe = view_acs_codes(json_url, filter_words, blocked_words)\u001b[37m\u001b[39;49;00m\n",
      "\u001b[0;31mNameError\u001b[0m: name 'view_acs_codes' is not defined\n\u001b[0;31m---------------------------------------------------------------------------\u001b[0m"
     ]
    }
   ],
   "source": [
    "'''\n",
    "RUN MASTER FUNCTIONS (VIEW CENSUS CONCEPTS)\n",
    "'''\n",
    "filter_words       = ['Presence of Own Children']\n",
    "blocked_words      = ['(']\n",
    "\n",
    "json_dictionary, group_dictionary, acs_dataframe = view_acs_codes(json_url, filter_words, blocked_words)\n",
    "\n",
    "with option_context('display.max_colwidth', None): \n",
    "    print(acs_dataframe)"
   ]
  },
  {
   "cell_type": "code",
   "execution_count": null,
   "metadata": {},
   "outputs": [],
   "source": [
    "'''\n",
    "RUN MASTER FUNCTIONS (CREATE OUTPUT DATA)\n",
    "'''\n",
    "shp_path                                         = define_geography(map_name, gdb, focus_points, focus_point_name, selection_distance, shp_folder)\n",
    "json_dictionary, group_dictionary, acs_dataframe = view_acs_codes(json_url, filter_words, blocked_words)\n",
    "variable_codes, code_label_dictionary            = return_acs_dictionary(input_group_code, json_dictionary, group_dictionary)\n",
    "json_list                                        = retrieve_acs_json(variable_codes, shp_path, api_key)"
   ]
  },
  {
   "cell_type": "code",
   "execution_count": null,
   "metadata": {},
   "outputs": [],
   "source": [
    "geodataframe                                     = create_geodataframe(shp_path, keep_columns)\n",
    "merge_geodataframe, output_shp_path              = merge_dataframe_with_geometry(geodataframe, census_dataframe, output_shp)"
   ]
  },
  {
   "cell_type": "code",
   "execution_count": null,
   "metadata": {},
   "outputs": [],
   "source": [
    "##########################################################################################\n",
    "##########################################################################################\n",
    "##########################################################################################\n",
    "##########################################################################################"
   ]
  },
  {
   "cell_type": "code",
   "execution_count": null,
   "metadata": {},
   "outputs": [],
   "source": [
    "'''\n",
    "1. Trim unnecessary columns from geodataframe \n",
    "2. Format output columns so that they have clear names \n",
    "3. Create function to group columns if needed \n",
    "'''"
   ]
  }
 ],
 "metadata": {
  "kernelspec": {
   "display_name": "ArcGISPro",
   "language": "Python",
   "name": "python3"
  },
  "language_info": {
   "file_extension": ".py",
   "name": "python",
   "version": "3"
  }
 },
 "nbformat": 4,
 "nbformat_minor": 2
}
